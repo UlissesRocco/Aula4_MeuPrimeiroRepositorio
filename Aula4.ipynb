{
  "nbformat": 4,
  "nbformat_minor": 0,
  "metadata": {
    "colab": {
      "name": "Aula4.ipynb",
      "provenance": [],
      "collapsed_sections": [],
      "authorship_tag": "ABX9TyOueA4oHgWOtuiXxgmdHdqV",
      "include_colab_link": true
    },
    "kernelspec": {
      "name": "python3",
      "display_name": "Python 3"
    },
    "language_info": {
      "name": "python"
    }
  },
  "cells": [
    {
      "cell_type": "markdown",
      "metadata": {
        "id": "view-in-github",
        "colab_type": "text"
      },
      "source": [
        "<a href=\"https://colab.research.google.com/github/UlissesRocco/Aula4_MeuPrimeiroRepositorio/blob/main/Aula4.ipynb\" target=\"_parent\"><img src=\"https://colab.research.google.com/assets/colab-badge.svg\" alt=\"Open In Colab\"/></a>"
      ]
    },
    {
      "cell_type": "markdown",
      "source": [
        "#Esse é o meu primeiro código em Python!"
      ],
      "metadata": {
        "id": "ApQZPmZYBd0M"
      }
    },
    {
      "cell_type": "markdown",
      "source": [
        "##Semelhança com o Pseudocódigo:"
      ],
      "metadata": {
        "id": "JkzruOaEJ1-O"
      }
    },
    {
      "cell_type": "code",
      "source": [
        "x = 5\n",
        "\n",
        "if x == 5:\n",
        "  y = 0\n",
        "  while y < 4:\n",
        "    print(\"O valor de y é: \", y)\n",
        "    print(\"\\n\")\n",
        "    y = y + 1\n"
      ],
      "metadata": {
        "id": "t5-oz1XqCnHh"
      },
      "execution_count": null,
      "outputs": []
    },
    {
      "cell_type": "markdown",
      "source": [
        "O comando **Ctrl /** comenta e descomenta o código.\n",
        "\n",
        "###Qual o tipo de variável?"
      ],
      "metadata": {
        "id": "jZ2T8gDiF60v"
      }
    },
    {
      "cell_type": "code",
      "source": [
        "type(x)\n",
        "type(\"x\")"
      ],
      "metadata": {
        "id": "jjv1T0ZbD_5R"
      },
      "execution_count": null,
      "outputs": []
    },
    {
      "cell_type": "markdown",
      "source": [
        "O **type** é uma função que devolve o tipo de variável."
      ],
      "metadata": {
        "id": "5aiEwjloHD3H"
      }
    },
    {
      "cell_type": "markdown",
      "source": [
        "##Voltando para semelhança com o Pseudocódigo:"
      ],
      "metadata": {
        "id": "LzjWHTB6IBu4"
      }
    },
    {
      "cell_type": "code",
      "source": [
        "for i in [5, 6, 7, 8, 9]:\n",
        "  print(i)"
      ],
      "metadata": {
        "colab": {
          "base_uri": "https://localhost:8080/"
        },
        "id": "DY2R_8srHhOx",
        "outputId": "505c73d2-8648-421b-e442-d11573eda1a3"
      },
      "execution_count": 10,
      "outputs": [
        {
          "output_type": "stream",
          "name": "stdout",
          "text": [
            "5\n",
            "6\n",
            "7\n",
            "8\n",
            "9\n"
          ]
        }
      ]
    },
    {
      "cell_type": "code",
      "source": [
        "for i in range(10):\n",
        "  print(i)"
      ],
      "metadata": {
        "colab": {
          "base_uri": "https://localhost:8080/"
        },
        "id": "gXGokixCI9yk",
        "outputId": "d03d5e64-9f4e-4157-ca6f-10e1a7c9d4eb"
      },
      "execution_count": 12,
      "outputs": [
        {
          "output_type": "stream",
          "name": "stdout",
          "text": [
            "0\n",
            "1\n",
            "2\n",
            "3\n",
            "4\n",
            "5\n",
            "6\n",
            "7\n",
            "8\n",
            "9\n"
          ]
        }
      ]
    },
    {
      "cell_type": "code",
      "source": [
        "for i in range(5, 10):\n",
        "  print(i)"
      ],
      "metadata": {
        "colab": {
          "base_uri": "https://localhost:8080/"
        },
        "id": "-X_Jbl02JZtw",
        "outputId": "ee2eb3f9-352b-4d6c-aa0f-26c51d776cb4"
      },
      "execution_count": 13,
      "outputs": [
        {
          "output_type": "stream",
          "name": "stdout",
          "text": [
            "5\n",
            "6\n",
            "7\n",
            "8\n",
            "9\n"
          ]
        }
      ]
    },
    {
      "cell_type": "code",
      "source": [
        "for i in range(5, 10, 2):\n",
        "  print(i)"
      ],
      "metadata": {
        "colab": {
          "base_uri": "https://localhost:8080/"
        },
        "id": "CP-0KLXyJ-AG",
        "outputId": "285b9a1c-1898-495c-955a-0fd34f86e22f"
      },
      "execution_count": 14,
      "outputs": [
        {
          "output_type": "stream",
          "name": "stdout",
          "text": [
            "5\n",
            "7\n",
            "9\n"
          ]
        }
      ]
    },
    {
      "cell_type": "code",
      "source": [
        "x = 5\n",
        "\n",
        "if x == 5:\n",
        "  y = 0\n",
        "  while y < 4:\n",
        "    print(\"O valor de y é: \", y)\n",
        "    print(\"\\n\")\n",
        "    y = y + 1\n",
        "\n",
        "    print(\"\\n\")\n",
        "\n",
        "    type(x)\n",
        "    type(\"x\")\n",
        "\n",
        "    print(\"\\n\")\n",
        "\n",
        "    for i in [5, 6, 7, 8, 9]:\n",
        "      print(i)\n",
        "\n",
        "      print(\"\\n\")\n",
        "\n",
        "      for i in range(10):\n",
        "        print(i)\n",
        "\n",
        "        print(\"\\n\")\n",
        "\n",
        "        for i in range(5, 10):\n",
        "          print(i)\n",
        "\n",
        "          print(\"\\n\")\n",
        "\n",
        "          for i in range(5, 10, 2):\n",
        "            print(i)\n"
      ],
      "metadata": {
        "id": "1Kkn__3JKG1W"
      },
      "execution_count": null,
      "outputs": []
    }
  ]
}